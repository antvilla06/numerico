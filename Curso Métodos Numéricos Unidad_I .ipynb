{
  "nbformat": 4,
  "nbformat_minor": 0,
  "metadata": {
    "colab": {
      "name": "Unidad I.ipynb",
      "provenance": [],
      "collapsed_sections": [],
      "toc_visible": true,
      "authorship_tag": "ABX9TyOJet6kJXb2Sx8zUKguxx0N",
      "include_colab_link": true
    },
    "kernelspec": {
      "name": "python3",
      "display_name": "Python 3"
    },
    "language_info": {
      "name": "python"
    }
  },
  "cells": [
    {
      "cell_type": "markdown",
      "metadata": {
        "id": "view-in-github",
        "colab_type": "text"
      },
      "source": [
        "<a href=\"https://colab.research.google.com/github/antvilla06/numerico/blob/master/Curso%20M%C3%A9todos%20Num%C3%A9ricos%20Unidad_I%20.ipynb\" target=\"_parent\"><img src=\"https://colab.research.google.com/assets/colab-badge.svg\" alt=\"Open In Colab\"/></a>"
      ]
    },
    {
      "cell_type": "markdown",
      "source": [
        "# Introducción\n"
      ],
      "metadata": {
        "id": "xjMzR3lq-nEZ"
      }
    },
    {
      "cell_type": "code",
      "execution_count": null,
      "metadata": {
        "colab": {
          "base_uri": "https://localhost:8080/"
        },
        "id": "u2-5ImO-APxx",
        "outputId": "73dbf662-760b-43c1-a176-db3e28a4ea6b"
      },
      "outputs": [
        {
          "output_type": "execute_result",
          "data": {
            "text/plain": [
              "11"
            ]
          },
          "metadata": {},
          "execution_count": 3
        }
      ],
      "source": [
        "5+6\n"
      ]
    },
    {
      "cell_type": "code",
      "source": [
        "7+8"
      ],
      "metadata": {
        "colab": {
          "base_uri": "https://localhost:8080/"
        },
        "id": "puQ9FQ4wAuuf",
        "outputId": "231daa51-58f9-4c95-b0c9-b63beabde475"
      },
      "execution_count": null,
      "outputs": [
        {
          "output_type": "execute_result",
          "data": {
            "text/plain": [
              "15"
            ]
          },
          "metadata": {},
          "execution_count": 4
        }
      ]
    },
    {
      "cell_type": "markdown",
      "source": [
        "Si suman $1.1+2.2=3.3$ "
      ],
      "metadata": {
        "id": "QrnC92H-A6rH"
      }
    },
    {
      "cell_type": "code",
      "source": [
        "1.1+2.2"
      ],
      "metadata": {
        "colab": {
          "base_uri": "https://localhost:8080/"
        },
        "id": "mWpwBsbcBAyg",
        "outputId": "e67ecd82-eaf4-4557-fb95-beaf0efa6267"
      },
      "execution_count": null,
      "outputs": [
        {
          "output_type": "execute_result",
          "data": {
            "text/plain": [
              "3.3000000000000003"
            ]
          },
          "metadata": {},
          "execution_count": 5
        }
      ]
    },
    {
      "cell_type": "markdown",
      "source": [
        "El 1.1 en representación binaria tiene infinitos 0 y 1 en su expansio."
      ],
      "metadata": {
        "id": "sI-Vo0OJJSNe"
      }
    },
    {
      "cell_type": "markdown",
      "source": [
        "Tipos de datos en Python.\n",
        "\n",
        "Números Flotantes: Son representaciones de los números reales en un lengaje de programación. Los números pueden dar patologias, tal es el caso de sumar \n",
        "\n",
        "  $1.1+2.2=3.3000000000000003$\n",
        "\n",
        "  Ejemplos de numeros flotantes:\n",
        "\n",
        "          pi = 3.141519.....(infinitas cifras decimales no periodicas)\n",
        "          1/3= 0.33333333333.....\n",
        "          e =2.718.........(infinitas cifras decimales no periodocas)\n"
      ],
      "metadata": {
        "id": "v16uM-tYJ_UK"
      }
    },
    {
      "cell_type": "code",
      "source": [
        ""
      ],
      "metadata": {
        "id": "xNuPDONuSlG5"
      },
      "execution_count": null,
      "outputs": []
    },
    {
      "cell_type": "markdown",
      "source": [
        "Notación exponencial: Cuando un número es muy grande se repserenta en forma exponencial. \n",
        "\n",
        "  $4000 = 4 *1000=4*10^3= 4e3 $ (notación de python)\n",
        "\n",
        "  $5e2=5*10^2=500$\n",
        "\n",
        "  $60000=6*10000=6*10^4=6e4$ \n",
        "\n",
        "  $5.678e6=5.678*10^6=5.678*1000000=5678000$ "
      ],
      "metadata": {
        "id": "f2eI0KW1Rt-Y"
      }
    },
    {
      "cell_type": "code",
      "source": [
        "x = 5e2\n",
        "print(x)\n",
        "\n",
        "z = 6e4\n",
        "print(z)\n",
        "\n",
        "w = 5.678e6\n",
        "print(w)"
      ],
      "metadata": {
        "colab": {
          "base_uri": "https://localhost:8080/"
        },
        "id": "dqBOkxZqR17-",
        "outputId": "3e96363d-d4bf-4d3e-fd42-a80da2279cff"
      },
      "execution_count": null,
      "outputs": [
        {
          "output_type": "stream",
          "name": "stdout",
          "text": [
            "500.0\n",
            "60000.0\n",
            "5678000.0\n"
          ]
        }
      ]
    },
    {
      "cell_type": "code",
      "source": [
        ""
      ],
      "metadata": {
        "id": "lyyoBQFjTqGV"
      },
      "execution_count": null,
      "outputs": []
    },
    {
      "cell_type": "markdown",
      "source": [
        "Tipo de datos 2: Boloanos. Son proposiciones lógicas que dan condiciones para realizar teareas indicadas en la computadora.\n",
        "\n",
        "          el condiconal \"if\" permite dar una condicoón para realizar una tarea. "
      ],
      "metadata": {
        "id": "TNxxYbaUKzQR"
      }
    },
    {
      "cell_type": "markdown",
      "source": [
        "Números enteros y decimales: Son representaciones enteras de cantidades de números flotantes (reales) y los decimales son representaciones finitas de números fotantes\n",
        "\n",
        "."
      ],
      "metadata": {
        "id": "nf34fkwSLmYQ"
      }
    },
    {
      "cell_type": "markdown",
      "source": [
        "Tipo de datos 3 Arrelgos o array: Son representaciones en forma de \"array\" o vector."
      ],
      "metadata": {
        "id": "Sz8pmed_NnHP"
      }
    },
    {
      "cell_type": "code",
      "source": [
        "import numpy as np\n",
        "#Representación de arreglos (arrays) \n",
        "\n",
        "A=[1,2,3,4]\n",
        "print(A)"
      ],
      "metadata": {
        "colab": {
          "base_uri": "https://localhost:8080/"
        },
        "id": "ZotW1zPsN36q",
        "outputId": "1d745e2b-b726-415b-a91b-79cd95fcf70f"
      },
      "execution_count": null,
      "outputs": [
        {
          "output_type": "stream",
          "name": "stdout",
          "text": [
            "[1, 2, 3, 4]\n"
          ]
        }
      ]
    },
    {
      "cell_type": "markdown",
      "source": [
        "Nota importante: Python (cualquier lengiaje de programación) no tiene la capaidad de indentificar variables  por si solas, siempre le tenemos que dar un valor."
      ],
      "metadata": {
        "id": "-GvlIGrAPQhi"
      }
    },
    {
      "cell_type": "markdown",
      "source": [
        "Cadenas de caracteres (Strings): Son secuencias de caracteres. \n",
        "\n",
        "Python no puede reconoce letras por si solas, para darle sentido se encierran en \"\".\n",
        "\n",
        "Se usan principalmente en la recopilación de datos y analisis de información."
      ],
      "metadata": {
        "id": "3JvQxJR2QPSl"
      }
    },
    {
      "cell_type": "code",
      "source": [
        "x=\"casa\"\n",
        "print(x)"
      ],
      "metadata": {
        "colab": {
          "base_uri": "https://localhost:8080/"
        },
        "id": "4yTGFQqPQbQl",
        "outputId": "f93100cc-37b3-477f-e347-5afa4cb60d69"
      },
      "execution_count": null,
      "outputs": [
        {
          "output_type": "stream",
          "name": "stdout",
          "text": [
            "casa\n"
          ]
        }
      ]
    },
    {
      "cell_type": "code",
      "source": [
        "#Diferencia hay entre 1 y 1.001\n",
        "\n",
        "\n",
        "1.001**100"
      ],
      "metadata": {
        "colab": {
          "base_uri": "https://localhost:8080/"
        },
        "id": "RdyzMpytTtd5",
        "outputId": "0889a316-22c0-452f-d90f-1ffebb3efbcf"
      },
      "execution_count": null,
      "outputs": [
        {
          "output_type": "execute_result",
          "data": {
            "text/plain": [
              "1.105115697720756"
            ]
          },
          "metadata": {},
          "execution_count": 45
        }
      ]
    },
    {
      "cell_type": "markdown",
      "source": [
        "\n",
        "\n",
        "```\n",
        "# Esto tiene formato de código\n",
        "```\n",
        "\n",
        "# Operadores de Asignación"
      ],
      "metadata": {
        "id": "a4Cj16jVHkLt"
      }
    },
    {
      "cell_type": "markdown",
      "source": [
        "Saber diferenciar entre operadores de asignación como por ejemplo el signo $=$ y $==$"
      ],
      "metadata": {
        "id": "Hiz0K0ybHqy3"
      }
    },
    {
      "cell_type": "code",
      "source": [
        "x = 5\n",
        "print(x)"
      ],
      "metadata": {
        "colab": {
          "base_uri": "https://localhost:8080/"
        },
        "id": "3Nc101sxH40z",
        "outputId": "a6fabc9f-51a8-4e93-9f0c-204ac8d574cf"
      },
      "execution_count": null,
      "outputs": [
        {
          "output_type": "stream",
          "name": "stdout",
          "text": [
            "5\n"
          ]
        }
      ]
    },
    {
      "cell_type": "markdown",
      "source": [
        "El signo $=$ asigna valores númericos a los objetos.\n",
        "\n",
        "$x = 7$ le da valor $7$ a la variable $x$."
      ],
      "metadata": {
        "id": "Da33TZ9TIAMF"
      }
    },
    {
      "cell_type": "code",
      "source": [
        "2*x == 10"
      ],
      "metadata": {
        "colab": {
          "base_uri": "https://localhost:8080/"
        },
        "id": "eVSID4ibIOuP",
        "outputId": "23c08408-345f-4cfe-c8a8-67bf62d74fd9"
      },
      "execution_count": null,
      "outputs": [
        {
          "output_type": "execute_result",
          "data": {
            "text/plain": [
              "True"
            ]
          },
          "metadata": {},
          "execution_count": 7
        }
      ]
    },
    {
      "cell_type": "code",
      "source": [
        "5 == 5"
      ],
      "metadata": {
        "colab": {
          "base_uri": "https://localhost:8080/"
        },
        "id": "bXzEGUvFJHQ4",
        "outputId": "b6565600-f1d3-4d7d-ea39-148f6e5ab989"
      },
      "execution_count": null,
      "outputs": [
        {
          "output_type": "execute_result",
          "data": {
            "text/plain": [
              "True"
            ]
          },
          "metadata": {},
          "execution_count": 8
        }
      ]
    },
    {
      "cell_type": "code",
      "source": [
        "7 ==6"
      ],
      "metadata": {
        "colab": {
          "base_uri": "https://localhost:8080/"
        },
        "id": "cDnkuBzvJKPD",
        "outputId": "78133009-890f-4d78-e0e2-f04bc6a30f78"
      },
      "execution_count": null,
      "outputs": [
        {
          "output_type": "execute_result",
          "data": {
            "text/plain": [
              "False"
            ]
          },
          "metadata": {},
          "execution_count": 9
        }
      ]
    },
    {
      "cell_type": "markdown",
      "source": [
        "# Operadores de relación."
      ],
      "metadata": {
        "id": "YYzVpJk5K26d"
      }
    },
    {
      "cell_type": "markdown",
      "source": [
        "El signo $==$ sirve para comparar dos valores númericos."
      ],
      "metadata": {
        "id": "FzQy7_7fIgV6"
      }
    },
    {
      "cell_type": "markdown",
      "source": [
        "Operadores de relación.\n",
        "\n",
        "$7 != 5$ indics que los valores no son iguales.\n",
        "\n",
        "$7 < 8$ indica que $7$ es menor que $8$.\n",
        "\n",
        "$ 5 > 4$ indica que $5$ es mayor que $4$.\n",
        "\n",
        "$7 <= 7$ indica que un número es menor o igual que el otro.\n",
        "\n"
      ],
      "metadata": {
        "id": "isnBKWbSJWXx"
      }
    },
    {
      "cell_type": "code",
      "source": [
        "7 <9"
      ],
      "metadata": {
        "colab": {
          "base_uri": "https://localhost:8080/"
        },
        "id": "bVt7_K2aJ3ig",
        "outputId": "9558821a-46af-450c-a075-83b9b8f940ab"
      },
      "execution_count": null,
      "outputs": [
        {
          "output_type": "execute_result",
          "data": {
            "text/plain": [
              "True"
            ]
          },
          "metadata": {},
          "execution_count": 10
        }
      ]
    },
    {
      "cell_type": "code",
      "source": [
        "6 != 6"
      ],
      "metadata": {
        "colab": {
          "base_uri": "https://localhost:8080/"
        },
        "id": "GCnUUW_OJ7oM",
        "outputId": "3078357f-d454-4970-c8e6-87b190f8eddd"
      },
      "execution_count": null,
      "outputs": [
        {
          "output_type": "execute_result",
          "data": {
            "text/plain": [
              "False"
            ]
          },
          "metadata": {},
          "execution_count": 11
        }
      ]
    },
    {
      "cell_type": "code",
      "source": [
        "7 <= 7"
      ],
      "metadata": {
        "colab": {
          "base_uri": "https://localhost:8080/"
        },
        "id": "FZho0B6zKNtg",
        "outputId": "69c693ed-c9fc-4bff-c601-981122605dab"
      },
      "execution_count": null,
      "outputs": [
        {
          "output_type": "execute_result",
          "data": {
            "text/plain": [
              "True"
            ]
          },
          "metadata": {},
          "execution_count": 12
        }
      ]
    },
    {
      "cell_type": "code",
      "source": [
        "6 <= 7"
      ],
      "metadata": {
        "colab": {
          "base_uri": "https://localhost:8080/"
        },
        "id": "DKcoAsKjKme6",
        "outputId": "963292f8-5512-40e8-cda3-eed7c3ce9974"
      },
      "execution_count": null,
      "outputs": [
        {
          "output_type": "execute_result",
          "data": {
            "text/plain": [
              "True"
            ]
          },
          "metadata": {},
          "execution_count": 13
        }
      ]
    },
    {
      "cell_type": "code",
      "source": [
        "16 >= 20"
      ],
      "metadata": {
        "colab": {
          "base_uri": "https://localhost:8080/"
        },
        "id": "vr-T1nfiKq8b",
        "outputId": "1585e700-3d56-4cef-f2e8-36842b9552fa"
      },
      "execution_count": null,
      "outputs": [
        {
          "output_type": "execute_result",
          "data": {
            "text/plain": [
              "False"
            ]
          },
          "metadata": {},
          "execution_count": 14
        }
      ]
    },
    {
      "cell_type": "markdown",
      "source": [
        "# Operadores de asignación."
      ],
      "metadata": {
        "id": "EQuJcIxqLCvw"
      }
    },
    {
      "cell_type": "code",
      "source": [
        "r = 10\n",
        "r += 5\n",
        "print(r)"
      ],
      "metadata": {
        "colab": {
          "base_uri": "https://localhost:8080/"
        },
        "id": "Xed9ThW4LpXK",
        "outputId": "b291a20b-2152-41cf-bcad-78fd271a02ca"
      },
      "execution_count": null,
      "outputs": [
        {
          "output_type": "stream",
          "name": "stdout",
          "text": [
            "15\n"
          ]
        }
      ]
    },
    {
      "cell_type": "markdown",
      "source": [
        ""
      ],
      "metadata": {
        "id": "ORlN_y0fMQNf"
      }
    },
    {
      "cell_type": "markdown",
      "source": [
        "El signo $r+=5$ suma el varlor 5 a la variable $r$.\n",
        "\n",
        "Otra forma equivalente es escribir $r=r+5$\n"
      ],
      "metadata": {
        "id": "0wvLuLifL_QU"
      }
    },
    {
      "cell_type": "code",
      "source": [
        "z = 14\n",
        "\n",
        "z = z +4\n",
        "\n",
        "print(z)"
      ],
      "metadata": {
        "colab": {
          "base_uri": "https://localhost:8080/"
        },
        "id": "LMLnamTYMLZk",
        "outputId": "aa75b355-707b-4c81-8bac-81028c1e75ce"
      },
      "execution_count": null,
      "outputs": [
        {
          "output_type": "stream",
          "name": "stdout",
          "text": [
            "18\n"
          ]
        }
      ]
    },
    {
      "cell_type": "markdown",
      "source": [
        "El operador $r -= 8$  le resta $8$ a $r$.\n",
        "\n",
        "El equivalente es $r=r-8$*texto en cursiva*"
      ],
      "metadata": {
        "id": "RU-px5i7M1qL"
      }
    },
    {
      "cell_type": "code",
      "source": [
        "m = 34\n",
        "\n",
        "m -= 8\n",
        "print(m)"
      ],
      "metadata": {
        "colab": {
          "base_uri": "https://localhost:8080/"
        },
        "id": "nlPmnp0YNBFK",
        "outputId": "d6b7127b-84d8-4524-b87b-6f3a0684d14d"
      },
      "execution_count": null,
      "outputs": [
        {
          "output_type": "stream",
          "name": "stdout",
          "text": [
            "26\n"
          ]
        }
      ]
    },
    {
      "cell_type": "markdown",
      "source": [
        "$r *= 7$ multiplca $7$ por $r$.\n",
        "\n",
        "$r \\= 9$ dividir el valor de $r$ entre $p$.\n",
        "\n",
        "$r **=5$ elevar el valor de $r$ a la $5$."
      ],
      "metadata": {
        "id": "4Uy9sEF5NOj8"
      }
    },
    {
      "cell_type": "code",
      "source": [
        "f = 10\n",
        "f *= 7\n",
        "#Significa que f =7*f\n",
        "print(f) "
      ],
      "metadata": {
        "colab": {
          "base_uri": "https://localhost:8080/"
        },
        "id": "oJrA9LINOB0d",
        "outputId": "3fb13a88-456b-4838-ff74-bbaa268e7a66"
      },
      "execution_count": null,
      "outputs": [
        {
          "output_type": "stream",
          "name": "stdout",
          "text": [
            "70\n"
          ]
        }
      ]
    },
    {
      "cell_type": "code",
      "source": [
        "s = 3\n",
        "s **= 4\n",
        "#Significa que s = s**4\n",
        "print(s)"
      ],
      "metadata": {
        "colab": {
          "base_uri": "https://localhost:8080/"
        },
        "id": "GIhEMq2COaxk",
        "outputId": "9d1f7867-79fa-4a95-8190-2fd627d05501"
      },
      "execution_count": null,
      "outputs": [
        {
          "output_type": "stream",
          "name": "stdout",
          "text": [
            "81\n"
          ]
        }
      ]
    },
    {
      "cell_type": "markdown",
      "source": [
        "#Boleanos"
      ],
      "metadata": {
        "id": "22DOjGcmOx4S"
      }
    },
    {
      "cell_type": "markdown",
      "source": [
        "Los boleanos son las cadenas True y False\n",
        "\n",
        "La instruccción int() le asigna valor númerico a True y False.\n",
        "\n"
      ],
      "metadata": {
        "id": "Tjm6Mo9YO9GA"
      }
    },
    {
      "cell_type": "code",
      "source": [
        "int(True)"
      ],
      "metadata": {
        "colab": {
          "base_uri": "https://localhost:8080/"
        },
        "id": "gmPmzZFdPQOX",
        "outputId": "5fc5c616-dc2c-4d82-c96d-febb077249d1"
      },
      "execution_count": null,
      "outputs": [
        {
          "output_type": "execute_result",
          "data": {
            "text/plain": [
              "1"
            ]
          },
          "metadata": {},
          "execution_count": 22
        }
      ]
    },
    {
      "cell_type": "code",
      "source": [
        "int(False)"
      ],
      "metadata": {
        "colab": {
          "base_uri": "https://localhost:8080/"
        },
        "id": "vTIYJxIpPnmR",
        "outputId": "00c8786e-71ab-492b-e4b7-8a4dd623ea03"
      },
      "execution_count": null,
      "outputs": [
        {
          "output_type": "execute_result",
          "data": {
            "text/plain": [
              "0"
            ]
          },
          "metadata": {},
          "execution_count": 23
        }
      ]
    },
    {
      "cell_type": "code",
      "source": [
        "False"
      ],
      "metadata": {
        "colab": {
          "base_uri": "https://localhost:8080/"
        },
        "id": "LTne6bjDPvJo",
        "outputId": "c9bfcbd6-4c26-4a49-b502-15b618759590"
      },
      "execution_count": null,
      "outputs": [
        {
          "output_type": "execute_result",
          "data": {
            "text/plain": [
              "False"
            ]
          },
          "metadata": {},
          "execution_count": 24
        }
      ]
    },
    {
      "cell_type": "code",
      "source": [
        "False == False"
      ],
      "metadata": {
        "colab": {
          "base_uri": "https://localhost:8080/"
        },
        "id": "PsG5wdFTPw-A",
        "outputId": "1508a873-ec3e-4db6-c47d-259b832acf0e"
      },
      "execution_count": null,
      "outputs": [
        {
          "output_type": "execute_result",
          "data": {
            "text/plain": [
              "True"
            ]
          },
          "metadata": {},
          "execution_count": 25
        }
      ]
    },
    {
      "cell_type": "code",
      "source": [
        "True != True"
      ],
      "metadata": {
        "colab": {
          "base_uri": "https://localhost:8080/"
        },
        "id": "XoIcETB4P79v",
        "outputId": "c7359e1f-5ae1-4428-e944-c3f864177415"
      },
      "execution_count": null,
      "outputs": [
        {
          "output_type": "execute_result",
          "data": {
            "text/plain": [
              "False"
            ]
          },
          "metadata": {},
          "execution_count": 26
        }
      ]
    },
    {
      "cell_type": "code",
      "source": [
        "() == False"
      ],
      "metadata": {
        "colab": {
          "base_uri": "https://localhost:8080/"
        },
        "id": "DuTvRUEYQGff",
        "outputId": "b2558189-7606-415b-a67e-9888a797abae"
      },
      "execution_count": null,
      "outputs": [
        {
          "output_type": "execute_result",
          "data": {
            "text/plain": [
              "False"
            ]
          },
          "metadata": {},
          "execution_count": 27
        }
      ]
    },
    {
      "cell_type": "code",
      "source": [
        "() != False"
      ],
      "metadata": {
        "colab": {
          "base_uri": "https://localhost:8080/"
        },
        "id": "mwqRq2lfQVIm",
        "outputId": "ec9a599b-9645-41f9-9ba0-3b59f8abd57a"
      },
      "execution_count": null,
      "outputs": [
        {
          "output_type": "execute_result",
          "data": {
            "text/plain": [
              "True"
            ]
          },
          "metadata": {},
          "execution_count": 28
        }
      ]
    },
    {
      "cell_type": "code",
      "source": [
        "{} == 0"
      ],
      "metadata": {
        "colab": {
          "base_uri": "https://localhost:8080/"
        },
        "id": "XSInpj_HQhvU",
        "outputId": "6d0e4518-ea6e-4abd-ab84-dcf2328da11a"
      },
      "execution_count": null,
      "outputs": [
        {
          "output_type": "execute_result",
          "data": {
            "text/plain": [
              "False"
            ]
          },
          "metadata": {},
          "execution_count": 33
        }
      ]
    },
    {
      "cell_type": "code",
      "source": [
        "() == 1"
      ],
      "metadata": {
        "colab": {
          "base_uri": "https://localhost:8080/"
        },
        "id": "22L0-p3oRTgd",
        "outputId": "7de2caf7-648a-4a82-ad9c-53b9056f3321"
      },
      "execution_count": null,
      "outputs": [
        {
          "output_type": "execute_result",
          "data": {
            "text/plain": [
              "False"
            ]
          },
          "metadata": {},
          "execution_count": 34
        }
      ]
    },
    {
      "cell_type": "code",
      "source": [
        "() == 0"
      ],
      "metadata": {
        "colab": {
          "base_uri": "https://localhost:8080/"
        },
        "id": "VywFbpICRWVa",
        "outputId": "17c9db7e-381c-482c-f64d-af99286cb688"
      },
      "execution_count": null,
      "outputs": [
        {
          "output_type": "execute_result",
          "data": {
            "text/plain": [
              "False"
            ]
          },
          "metadata": {},
          "execution_count": 35
        }
      ]
    },
    {
      "cell_type": "code",
      "source": [
        "{} == False"
      ],
      "metadata": {
        "colab": {
          "base_uri": "https://localhost:8080/"
        },
        "id": "NXl-oy-lQmE3",
        "outputId": "78dadd58-8ac2-4754-e897-e802a740dbe3"
      },
      "execution_count": null,
      "outputs": [
        {
          "output_type": "execute_result",
          "data": {
            "text/plain": [
              "False"
            ]
          },
          "metadata": {},
          "execution_count": 30
        }
      ]
    },
    {
      "cell_type": "code",
      "source": [
        "0 == False"
      ],
      "metadata": {
        "colab": {
          "base_uri": "https://localhost:8080/"
        },
        "id": "aLxsHSw0RGO2",
        "outputId": "3c81f796-5130-4ca3-88fe-2abd0e3c44da"
      },
      "execution_count": null,
      "outputs": [
        {
          "output_type": "execute_result",
          "data": {
            "text/plain": [
              "True"
            ]
          },
          "metadata": {},
          "execution_count": 31
        }
      ]
    },
    {
      "cell_type": "code",
      "source": [
        "1 == False"
      ],
      "metadata": {
        "colab": {
          "base_uri": "https://localhost:8080/"
        },
        "id": "CjHWClW5RISP",
        "outputId": "c309da06-d489-47c0-a6b2-48a40350cd8e"
      },
      "execution_count": null,
      "outputs": [
        {
          "output_type": "execute_result",
          "data": {
            "text/plain": [
              "False"
            ]
          },
          "metadata": {},
          "execution_count": 32
        }
      ]
    },
    {
      "cell_type": "markdown",
      "source": [
        "La tarea bool()"
      ],
      "metadata": {
        "id": "5ja5cYzMRBSO"
      }
    },
    {
      "cell_type": "code",
      "source": [
        "bool(6)"
      ],
      "metadata": {
        "colab": {
          "base_uri": "https://localhost:8080/"
        },
        "id": "__jY407uRl4l",
        "outputId": "6af6ef7f-935a-4abe-c163-72c0909e625d"
      },
      "execution_count": null,
      "outputs": [
        {
          "output_type": "execute_result",
          "data": {
            "text/plain": [
              "True"
            ]
          },
          "metadata": {},
          "execution_count": 36
        }
      ]
    },
    {
      "cell_type": "code",
      "source": [
        "bool({})"
      ],
      "metadata": {
        "colab": {
          "base_uri": "https://localhost:8080/"
        },
        "id": "fSLGpT8yRpDV",
        "outputId": "824dc597-b677-4295-a930-714d70f577a6"
      },
      "execution_count": null,
      "outputs": [
        {
          "output_type": "execute_result",
          "data": {
            "text/plain": [
              "False"
            ]
          },
          "metadata": {},
          "execution_count": 37
        }
      ]
    },
    {
      "cell_type": "code",
      "source": [
        "bool(False)"
      ],
      "metadata": {
        "colab": {
          "base_uri": "https://localhost:8080/"
        },
        "id": "p5RVLbNeRrMe",
        "outputId": "c53c587b-685b-4f5d-a9dc-febf1f8145bb"
      },
      "execution_count": null,
      "outputs": [
        {
          "output_type": "execute_result",
          "data": {
            "text/plain": [
              "False"
            ]
          },
          "metadata": {},
          "execution_count": 38
        }
      ]
    },
    {
      "cell_type": "code",
      "source": [
        "bool(True)"
      ],
      "metadata": {
        "colab": {
          "base_uri": "https://localhost:8080/"
        },
        "id": "kbZ0Mu_4Rt98",
        "outputId": "06a0c9ee-7a2b-4403-efba-7d468be10bc5"
      },
      "execution_count": null,
      "outputs": [
        {
          "output_type": "execute_result",
          "data": {
            "text/plain": [
              "True"
            ]
          },
          "metadata": {},
          "execution_count": 39
        }
      ]
    },
    {
      "cell_type": "code",
      "source": [
        "bool(1)"
      ],
      "metadata": {
        "colab": {
          "base_uri": "https://localhost:8080/"
        },
        "id": "9WoGDznFR0AA",
        "outputId": "3b36a257-e9e7-4b81-da77-8e63b336be3e"
      },
      "execution_count": null,
      "outputs": [
        {
          "output_type": "execute_result",
          "data": {
            "text/plain": [
              "True"
            ]
          },
          "metadata": {},
          "execution_count": 40
        }
      ]
    },
    {
      "cell_type": "code",
      "source": [
        "bool(0)"
      ],
      "metadata": {
        "colab": {
          "base_uri": "https://localhost:8080/"
        },
        "id": "I4hZIjzeR297",
        "outputId": "0d77a810-5ea4-40e4-c2dd-278397e4c72c"
      },
      "execution_count": null,
      "outputs": [
        {
          "output_type": "execute_result",
          "data": {
            "text/plain": [
              "False"
            ]
          },
          "metadata": {},
          "execution_count": 41
        }
      ]
    },
    {
      "cell_type": "markdown",
      "source": [
        "# Sección nueva"
      ],
      "metadata": {
        "id": "8BXAmfXVSO1G"
      }
    },
    {
      "cell_type": "code",
      "source": [
        "A= [7,6,8,9]\n",
        "print(A)\n",
        "\n"
      ],
      "metadata": {
        "colab": {
          "base_uri": "https://localhost:8080/"
        },
        "id": "ywCNXojmSP0W",
        "outputId": "37304b0f-a19a-4fd7-dfd5-027fc4816fc8"
      },
      "execution_count": null,
      "outputs": [
        {
          "output_type": "stream",
          "name": "stdout",
          "text": [
            "[7, 6, 8, 9]\n"
          ]
        }
      ]
    },
    {
      "cell_type": "code",
      "source": [
        "A = []\n",
        "A.append(6)\n",
        "print(A)\n",
        "A.append(7)\n",
        "print(A)\n",
        "A.append(9)\n",
        "print(A)"
      ],
      "metadata": {
        "colab": {
          "base_uri": "https://localhost:8080/"
        },
        "id": "qXinbr3ZSYeX",
        "outputId": "32a06ff0-32d8-414f-9036-f45dcd4caebe"
      },
      "execution_count": null,
      "outputs": [
        {
          "output_type": "stream",
          "name": "stdout",
          "text": [
            "[6]\n",
            "[6, 7]\n",
            "[6, 7, 9]\n"
          ]
        }
      ]
    }
  ]
}